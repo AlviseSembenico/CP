{
 "cells": [
  {
   "cell_type": "code",
   "execution_count": 2,
   "metadata": {},
   "outputs": [],
   "source": [
    "import numpy as np"
   ]
  },
  {
   "cell_type": "code",
   "execution_count": 12,
   "metadata": {},
   "outputs": [],
   "source": [
    "matrix = np.array([\n",
    "    [2, 10, 10, 11, 11, 11],\n",
    "    [2, 10, 10, 11, 11, 11],\n",
    "    [2, 2, 10, 10, 11, 11],\n",
    "    [2, 2, 10, 10, 11, 11],\n",
    "    [2, 2, 2, 10, 10, 11],\n",
    "    [2, 2, 2, 10, 10, 11]\n",
    "])"
   ]
  },
  {
   "cell_type": "code",
   "execution_count": 7,
   "metadata": {},
   "outputs": [],
   "source": [
    "def compute_value(scores):\n",
    "    res = scores[0]\n",
    "    for i in range(1, len(scores)):\n",
    "        nv = scores[i]\n",
    "        if nv == scores[i-1]:\n",
    "            res += nv\n",
    "        else:\n",
    "            res *= nv\n",
    "    return res"
   ]
  },
  {
   "cell_type": "code",
   "execution_count": 13,
   "metadata": {},
   "outputs": [
    {
     "data": {
      "text/plain": [
       "([2, 2, 2, 10, 10, 10, 10, 2, 11, 11, 11, 11, 11], 2024)"
      ]
     },
     "execution_count": 13,
     "metadata": {},
     "output_type": "execute_result"
    }
   ],
   "source": [
    "bottom_path = [\n",
    "    (5, 0), (3, 1), (5, 2), (4, 4), (3, 2), (1, 1), (2, 3), (4, 2), (3, 4), (1, 5), (0, 3), (2,4),(0,5)\n",
    "] \n",
    "values = [matrix[i, j] for i, j in bottom_path]\n",
    "values, compute_value(values)\n"
   ]
  },
  {
   "cell_type": "code",
   "execution_count": 14,
   "metadata": {},
   "outputs": [
    {
     "data": {
      "text/plain": [
       "([2, 2, 2, 2, 2, 2, 2, 2, 2, 10, 11, 11, 11, 11, 11], 2024)"
      ]
     },
     "execution_count": 14,
     "metadata": {},
     "output_type": "execute_result"
    }
   ],
   "source": [
    "top_path = [\n",
    "    (0, 0), (2, 1), (4, 0), (5, 2), (3, 1), (5, 0), (4, 2),(3, 0), (5, 1), (3, 2), (2, 4), (0, 5), (1, 3), (3, 4), (5, 5)\n",
    "]\n",
    "values = [matrix[i, j] for i, j in top_path]\n",
    "values, compute_value(values)"
   ]
  }
 ],
 "metadata": {
  "kernelspec": {
   "display_name": "prosperity",
   "language": "python",
   "name": "python3"
  },
  "language_info": {
   "codemirror_mode": {
    "name": "ipython",
    "version": 3
   },
   "file_extension": ".py",
   "mimetype": "text/x-python",
   "name": "python",
   "nbconvert_exporter": "python",
   "pygments_lexer": "ipython3",
   "version": "3.12.2"
  }
 },
 "nbformat": 4,
 "nbformat_minor": 2
}
